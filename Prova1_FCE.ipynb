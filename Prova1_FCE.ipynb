{
  "nbformat": 4,
  "nbformat_minor": 0,
  "metadata": {
    "colab": {
      "provenance": [],
      "authorship_tag": "ABX9TyOoWLRGIZINBaRcoYr8LV26",
      "include_colab_link": true
    },
    "kernelspec": {
      "name": "python3",
      "display_name": "Python 3"
    },
    "language_info": {
      "name": "python"
    }
  },
  "cells": [
    {
      "cell_type": "markdown",
      "metadata": {
        "id": "view-in-github",
        "colab_type": "text"
      },
      "source": [
        "<a href=\"https://colab.research.google.com/github/Guilherme-Loss/Repositorio_Guilherme/blob/main/Prova1_FCE.ipynb\" target=\"_parent\"><img src=\"https://colab.research.google.com/assets/colab-badge.svg\" alt=\"Open In Colab\"/></a>"
      ]
    },
    {
      "cell_type": "markdown",
      "source": [
        "#Fundamentos Computacionais para Engenharia\n",
        "##Primeira Avaliação\n",
        "###Guilherme Loss Gambert Santos - 2022100228\n",
        "---\n",
        "\n",
        "- Questão 1:\n",
        "\n",
        "Algoritmo significa um conjunto finito de regras e procedimentos lógicos, utilizados por computadores, que executam essas etapas de forma eficiente a fim de resolver um problema ou realizar uma tarefa. Dentro do contexto da Engenharia Química, o algoritmo é fundamental para modelagem, otimização e controle de processos e análise de dados. Um exemplo técnico que pode ser citado é a utilização de um algoritmo para executar o método de Newton-Raphson para a modelagem e simulação do processo de uma coluna de destilação.\n",
        "\n",
        "\n",
        "---\n",
        "\n",
        "\n",
        "- Questão 2:\n",
        "\n",
        "a) A linguagem compilada, como C++ e Java, convertem todo o código de uma vez em um código ou arquivo executável. É caracterizada pela alta performance, uma vez que o código já é compilado em formato de máquina. Uma desvantagem no uso de uma linguagem compilada é que o erro é identificado somente no fim da execução do código, o que torna a depuração mais demorada. Já a linguagem interpretada, exemplificadas por JavaScript e Python, traduzem o código linha por linha durante sua execução. Isso torna possível testes rápidos e facilita a depuração. A desvantagem do uso desse tipo de linguagem é que, pelo código ser lido linha por linha em tempo real, a execução é lenta.\n",
        "\n",
        "b) A programação imperativa é uma abordagem de programação onde o programador foca no passo a passo da execução, propondo uma sequência de comandos a serem executados com um controle explícito do fluxo de execução demonstrando eficiência. Por ser muito sequencial, esse paradigma de programação pode ser um pouco desorganizado. Já a programação procedural é um subtipo da imperativa, utilizando de sub-rotinas para modularizar o código a fim de sua reutilização, demonstrando grande eficiência. É mais organizado devido as instrução serem feitas em blocos de tarefas específicas.\n",
        "\n",
        "---\n",
        "\n",
        "- Questão 3:\n",
        "\n",
        "a) Esses princípios básicos do \"Zen of Python\" implicam que um código deve conter clareza e legibilidade, optando por uma escrita simples, direta, eficiente e pragmática. Ademais, esses princípios inspiram uma estrutura e design organizados, prontos para serem reutilizados no futuro. Dentro da engenharia, esse princípio garante códigos fluidos, de boa legibilidade e organização, prevenindo erros ocultos e mantendo o código funcional para multiplos usos.\n",
        "\n",
        "b) Um exemplo de má prática que viola os princípios do \"Zen of Python\" é um código extremamente compacto, de difícil leitura , utilizando de funções complexas, \"jeitinhos\" e códigos de linha muito longa(one-liner).\n",
        "\n",
        "---\n",
        "\n",
        "- Questão 4:\n",
        "\n",
        "a) Pseudocódigo elabaroda na célula abaixo em forma de comentário\n",
        "\n",
        "b) Código demonstrado na célula abaixo"
      ],
      "metadata": {
        "id": "8f1svi2jFJMT"
      }
    },
    {
      "cell_type": "code",
      "source": [
        "#Pseudocódigo\n",
        "\n",
        "#Entrada:\n",
        "\n",
        "# Tempo final de 20 min\n",
        "# Alertas definido como 0 inicialmente\n",
        "# Leituras definida como 1\n",
        "\n",
        "# Processamento:\n",
        "\n",
        "#   1. Definir uma função (docstring)\n",
        "#   2. Definir que a leitura deve ser feita a cada 2 minutos dentro de um intervalo de 10 minutos\n",
        "#   3. Usar uma função para tornar a pressão aleatória\n",
        "#   4. Incrementar o alerta em 1\n",
        "#   4. Condicionar a pressão segura dentro da margem com IF\n",
        "#   5. Exibir a leitura do sistema\n",
        "#   6. Encerrar a leitura do código caso a quantidade de alertas chegar a 3\n",
        "#   7. Aumentar a leitura em 1, para organizar a saída do código\n",
        "\n",
        "\n",
        "# Fim do pseudocódigo"
      ],
      "metadata": {
        "id": "WpG73lL0FL8I"
      },
      "execution_count": null,
      "outputs": []
    },
    {
      "cell_type": "code",
      "source": [
        "import numpy as np\n",
        "\n",
        "Tempofinal = 20 #Define o tempo inicial\n",
        "\n",
        "def simulação(): #Define a simulação\n",
        "  Alerta = 0\n",
        "  Leitura = 1\n",
        "\n",
        "  for Tempo in range (0, Tempofinal, 2): # realiza as leituras na condição de uma leitura a cada 2 minutos\n",
        "\n",
        "    Pressao = np.random.rand()*5 + 1 # Gera os números aleatórios\n",
        "\n",
        "    if Pressao < 2 or Pressao > 5: # Define se a pressão está fora da margem de segurança\n",
        "        Alerta += 1\n",
        "\n",
        "    if Alerta >= 3: #Define se o sistema seguirá operante ou será interrompido\n",
        "        Sistema = 'Interrompido'\n",
        "    else:\n",
        "        Sistema = 'Operando'\n",
        "\n",
        "    print(f'Leitura {Leitura}: Pressão = {Pressao} bar, Alarmes = {Alerta}/3, Sistema = {Sistema}') #Imprime a leitura conforme o código está sendo realizado\n",
        "\n",
        "    if Alerta >= 3:\n",
        "        break # Termina a simulação em caso de 3 alertas\n",
        "\n",
        "    Leitura += 1\n",
        "\n",
        "simulação()"
      ],
      "metadata": {
        "colab": {
          "base_uri": "https://localhost:8080/"
        },
        "id": "BfmhxsWBFOwA",
        "outputId": "1733566f-dad7-4865-cfe6-cc660e4eb08a"
      },
      "execution_count": null,
      "outputs": [
        {
          "output_type": "stream",
          "name": "stdout",
          "text": [
            "Leitura 1: Pressão = 5.970238288815075 bar, Alarmes = 1/3, Sistema = Operando\n",
            "Leitura 2: Pressão = 4.047602571402335 bar, Alarmes = 1/3, Sistema = Operando\n",
            "Leitura 3: Pressão = 2.9016779067870138 bar, Alarmes = 1/3, Sistema = Operando\n",
            "Leitura 4: Pressão = 4.178577360997041 bar, Alarmes = 1/3, Sistema = Operando\n",
            "Leitura 5: Pressão = 3.4419298504586395 bar, Alarmes = 1/3, Sistema = Operando\n",
            "Leitura 6: Pressão = 5.723986193203225 bar, Alarmes = 2/3, Sistema = Operando\n",
            "Leitura 7: Pressão = 5.20350568948894 bar, Alarmes = 3/3, Sistema = Interrompido\n"
          ]
        }
      ]
    }
  ]
}