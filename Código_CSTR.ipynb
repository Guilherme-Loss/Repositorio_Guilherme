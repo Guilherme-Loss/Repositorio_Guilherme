{
  "nbformat": 4,
  "nbformat_minor": 0,
  "metadata": {
    "colab": {
      "provenance": [],
      "authorship_tag": "ABX9TyNyOtWea325BT9P6dINLjB1",
      "include_colab_link": true
    },
    "kernelspec": {
      "name": "python3",
      "display_name": "Python 3"
    },
    "language_info": {
      "name": "python"
    }
  },
  "cells": [
    {
      "cell_type": "markdown",
      "metadata": {
        "id": "view-in-github",
        "colab_type": "text"
      },
      "source": [
        "<a href=\"https://colab.research.google.com/github/Guilherme-Loss/Repositorio_Guilherme/blob/main/C%C3%B3digo_CSTR.ipynb\" target=\"_parent\"><img src=\"https://colab.research.google.com/assets/colab-badge.svg\" alt=\"Open In Colab\"/></a>"
      ]
    },
    {
      "cell_type": "code",
      "execution_count": null,
      "metadata": {
        "id": "4uRcI80WQV4T"
      },
      "outputs": [],
      "source": [
        "import numpy as np\n",
        "from dataclasses import dataclass\n",
        "\n",
        "@dataclass\n",
        "class CSTR_parametro:\n",
        "  F: float = 50.0 #L/min\n",
        "  V: float = 100.0 # L\n",
        "  k: float = 0.5 # 1/min\n",
        "\n",
        "def CSTR_model(parametro, Ca_entrada):\n",
        "  Ca_saida = (parametro.F*Ca_entrada)/(parametro.F + parametro.k * parametro.V)\n",
        "  return Ca_saida\n",
        "\n",
        "def CSTR_series(lista_parametros,Ca_entrada):\n",
        "  conc = [Ca_entrada]\n",
        "  conv = []\n",
        "  for parametro in lista_parametros:\n",
        "    Ca_saida = CSTR_model(parametro, Ca_entrada)\n",
        "    conv_local = 1 - Ca_saida/conc[0]\n",
        "    conc.append(Ca_saida)\n",
        "    conv.append(conv_local)\n",
        "    Ca_entrada = Ca_saida\n",
        "  return conc, conv"
      ]
    },
    {
      "cell_type": "code",
      "source": [
        "# Parametros do reator\n",
        "#lista_parametros = 3*[parametoro_CSTR()]\n",
        "lista_parametros = [CSTR_parametro(F = 50, V = 200, k = 0.35),\n",
        "                    CSTR_parametro(F = 50, V = 100, k = 0.35),\n",
        "                    CSTR_parametro(F = 50, V = 50,  k = 1)]\n",
        "Ca0 = 1.0\n",
        "\n",
        "#Simulação\n",
        "conc, conv = CSTR_series(lista_parametros, Ca0)\n",
        "\n",
        "print(conc)\n",
        "print(conv)\n"
      ],
      "metadata": {
        "id": "AtXqu4VSQe12"
      },
      "execution_count": null,
      "outputs": []
    }
  ]
}