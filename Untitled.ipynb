{
  "nbformat": 4,
  "nbformat_minor": 0,
  "metadata": {
    "colab": {
      "provenance": [],
      "authorship_tag": "ABX9TyPv1JVQttU5o21umI6zW+bZ",
      "include_colab_link": true
    },
    "kernelspec": {
      "name": "python3",
      "display_name": "Python 3"
    },
    "language_info": {
      "name": "python"
    }
  },
  "cells": [
    {
      "cell_type": "markdown",
      "metadata": {
        "id": "view-in-github",
        "colab_type": "text"
      },
      "source": [
        "<a href=\"https://colab.research.google.com/github/Guilherme-Loss/Repositorio_Guilherme/blob/main/Untitled.ipynb\" target=\"_parent\"><img src=\"https://colab.research.google.com/assets/colab-badge.svg\" alt=\"Open In Colab\"/></a>"
      ]
    },
    {
      "cell_type": "code",
      "execution_count": 12,
      "metadata": {
        "colab": {
          "base_uri": "https://localhost:8080/"
        },
        "id": "Z9SaQYeG7sK-",
        "outputId": "fa77d908-ea97-446b-fbd2-ec44737e8e00"
      },
      "outputs": [
        {
          "output_type": "stream",
          "name": "stdout",
          "text": [
            "Leitura 1: Pressão = 2.1796793200114015 bar, Alarmes = 0/3, Sistema = Operando\n",
            "Leitura 2: Pressão = 5.465743034347755 bar, Alarmes = 1/3, Sistema = Operando\n",
            "Leitura 3: Pressão = 4.205779465612794 bar, Alarmes = 1/3, Sistema = Operando\n",
            "Leitura 4: Pressão = 1.6038107638182928 bar, Alarmes = 2/3, Sistema = Operando\n",
            "Leitura 5: Pressão = 3.1545702203027703 bar, Alarmes = 2/3, Sistema = Operando\n",
            "Leitura 6: Pressão = 5.0836312052797545 bar, Alarmes = 3/3, Sistema = Interrompido\n"
          ]
        }
      ],
      "source": [
        "import numpy as np\n",
        "\n",
        "def misturador(Vazao_A,Vazao_B, xa, xb):\n",
        "  try:\n",
        "    if not isinstance(Vazao_A, (int, float)) or Vazao_A <= 0:\n",
        "      raise ValueError('A concentração A é inválida')\n",
        "    elif not isinstance(Vazao_B, (int, float)) or Vazao_B <= 0:\n",
        "      raise ValueError('A concentração B é inválida')\n",
        "    elif not isinstance(xa, (float)) or xa <= 0:\n",
        "      raise ValueError('A fração de sal de a é invalida')\n",
        "    elif not isinstance(xb, (float)) or xb <= 0:\n",
        "      raise ValueError('A fração de sal de b é inválida')\n",
        "\n",
        "    Vazao_Final = Vazao_A + Vazao_B\n",
        "    x = (Vazao_A*xa + Vazao_B*xb)/Vazao_Final\n",
        "    return Vazao_Final, x\n",
        "\n",
        "  except ValueError as e:\n",
        "    print(e)\n",
        "    return None\n",
        "\n",
        "def mostra_sol():\n",
        "  sol = misturador(Vazao_A,Vazao_B, xa, xb)\n",
        "\n",
        "  if sol is not None:\n",
        "    print(f'Vazão Final = {sol[0]}kg/s  concentração = {sol[1]:.3f}%')\n",
        "  else:\n",
        "    print('Valores inválidos')\n",
        "\n",
        "# Questão a)\n",
        "\n",
        "Vazao_A = 50\n",
        "Vazao_B = 50\n",
        "xa = 0.15\n",
        "xb = 0.30\n",
        "mostra_sol()"
      ]
    },
    {
      "cell_type": "code",
      "source": [],
      "metadata": {
        "id": "-YO7-yWW_fkN"
      },
      "execution_count": null,
      "outputs": []
    }
  ]
}