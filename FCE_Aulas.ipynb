{
  "nbformat": 4,
  "nbformat_minor": 0,
  "metadata": {
    "colab": {
      "provenance": [],
      "authorship_tag": "ABX9TyOcx/F4DfkxySQEoHPozV/C",
      "include_colab_link": true
    },
    "kernelspec": {
      "name": "python3",
      "display_name": "Python 3"
    },
    "language_info": {
      "name": "python"
    }
  },
  "cells": [
    {
      "cell_type": "markdown",
      "metadata": {
        "id": "view-in-github",
        "colab_type": "text"
      },
      "source": [
        "<a href=\"https://colab.research.google.com/github/Guilherme-Loss/Repositorio_Guilherme/blob/main/FCE_Aulas.ipynb\" target=\"_parent\"><img src=\"https://colab.research.google.com/assets/colab-badge.svg\" alt=\"Open In Colab\"/></a>"
      ]
    },
    {
      "cell_type": "code",
      "execution_count": null,
      "metadata": {
        "colab": {
          "base_uri": "https://localhost:8080/"
        },
        "id": "Hk2P7nJIon6M",
        "outputId": "09b7baec-acbc-4bc1-f71b-e351cb205238"
      },
      "outputs": [
        {
          "output_type": "stream",
          "name": "stdout",
          "text": [
            "Qual a sua idade? 10\n",
            "Menor de idade\n"
          ]
        }
      ],
      "source": [
        "idade = int(input(\"Qual a sua idade? \"))\n",
        "\n",
        "if idade >= 18:\n",
        "    print(\"Maior de idade\")\n",
        "else:\n",
        "    print(\"Menor de idade\")"
      ]
    },
    {
      "cell_type": "markdown",
      "source": [
        "#Título\n",
        "##Subtítulo\n",
        "###Seção Menor\n",
        "\n",
        "`Oi`\n",
        "\n",
        "---\n",
        "\n",
        "- Item 1\n",
        "- Item 2\n",
        ">Tchau\n",
        "⚡\n",
        "💠\n",
        "\n",
        "1. *texto*\n",
        "2. **texto**\n",
        "3. ~texto~\n",
        "\n",
        "<font color='iced white'> este texto está em púrpura.<font>"
      ],
      "metadata": {
        "id": "J2lvDZRjqLbq"
      }
    },
    {
      "cell_type": "code",
      "source": [
        "import this"
      ],
      "metadata": {
        "colab": {
          "base_uri": "https://localhost:8080/"
        },
        "id": "Sb17TEJuk7Ci",
        "outputId": "54ef044e-1e9d-4c69-e10a-01e74c94091f"
      },
      "execution_count": null,
      "outputs": [
        {
          "output_type": "stream",
          "name": "stdout",
          "text": [
            "The Zen of Python, by Tim Peters\n",
            "\n",
            "Beautiful is better than ugly.\n",
            "Explicit is better than implicit.\n",
            "Simple is better than complex.\n",
            "Complex is better than complicated.\n",
            "Flat is better than nested.\n",
            "Sparse is better than dense.\n",
            "Readability counts.\n",
            "Special cases aren't special enough to break the rules.\n",
            "Although practicality beats purity.\n",
            "Errors should never pass silently.\n",
            "Unless explicitly silenced.\n",
            "In the face of ambiguity, refuse the temptation to guess.\n",
            "There should be one-- and preferably only one --obvious way to do it.\n",
            "Although that way may not be obvious at first unless you're Dutch.\n",
            "Now is better than never.\n",
            "Although never is often better than *right* now.\n",
            "If the implementation is hard to explain, it's a bad idea.\n",
            "If the implementation is easy to explain, it may be a good idea.\n",
            "Namespaces are one honking great idea -- let's do more of those!\n"
          ]
        }
      ]
    },
    {
      "cell_type": "code",
      "source": [
        "# prompt: elabore um pseudocódigo para a seguinte situação: calcular o pH de uma solução aquosa diluída de um ácido forte, dada a concentração molar do ácido\n",
        "\n",
        "# Pseudocódigo para calcular o pH de uma solução aquosa diluída de um ácido forte\n",
        "\n",
        "# Entrada:\n",
        "#   concentracao_molar: A concentração molar do ácido forte (mol/L)\n",
        "\n",
        "# Processamento:\n",
        "#   1. Assumir que o ácido forte se dissocia completamente em água.\n",
        "#   2. A concentração de íons H+ é igual à concentração molar do ácido.\n",
        "#   3. Calcular o pH usando a fórmula: pH = -log10(concentracao_H+)\n",
        "\n",
        "# Saída:\n",
        "#   pH: O pH da solução\n",
        "\n",
        "# Algoritmo:\n",
        "\n",
        "Função calcular_pH(concentracao_molar):\n",
        "  concentracao_H = concentracao_molar  // A concentração de H+ é igual à concentração do ácido forte\n",
        "  pH = -log10(concentracao_H)\n",
        "  Retornar pH\n",
        "\n",
        "# Exemplo de uso:\n",
        "concentracao_molar = ler_entrada(\"Digite a concentração molar do ácido:\") // Substituir ler_entrada por uma função de leitura de input apropriada\n",
        "pH_calculado = calcular_pH(concentracao_molar)\n",
        "imprimir(\"O pH da solução é:\", pH_calculado)\n",
        "\n",
        "\n"
      ],
      "metadata": {
        "colab": {
          "base_uri": "https://localhost:8080/"
        },
        "id": "TvTpPWUOs-5k",
        "outputId": "19be378f-a949-4e15-d855-9a68b92bb89a"
      },
      "execution_count": null,
      "outputs": [
        {
          "output_type": "execute_result",
          "data": {
            "text/plain": [
              "True"
            ]
          },
          "metadata": {},
          "execution_count": 9
        }
      ]
    },
    {
      "cell_type": "markdown",
      "source": [
        "Exercício:\n",
        "\n",
        "Sabendo que x = A^-1 * b"
      ],
      "metadata": {
        "id": "21azEMlR45IH"
      }
    },
    {
      "cell_type": "code",
      "source": [
        "import numpy as np\n",
        "from scipy.linalg import inv\n",
        "\n",
        "A = np.array([[-1, 0, 0.5],\n",
        "             [4, 2, 0],\n",
        "             [1, -2, 1]])\n",
        "\n",
        "b = np.array([0.25, 1.20, 0.30])\n",
        "\n",
        "A_inversa = inv(A)\n",
        "\n",
        "# print(A_inversa)\n",
        "\n",
        "x = A_inversa@b\n",
        "\n",
        "print(x)"
      ],
      "metadata": {
        "colab": {
          "base_uri": "https://localhost:8080/"
        },
        "id": "CDL0j6A15Eym",
        "outputId": "aaff048a-235b-499b-d3a9-e22579f2307f"
      },
      "execution_count": null,
      "outputs": [
        {
          "output_type": "stream",
          "name": "stdout",
          "text": [
            "[0.14285714 0.31428571 0.78571429]\n"
          ]
        }
      ]
    },
    {
      "cell_type": "code",
      "source": [
        "limitesuperior = 90\n",
        "limiteinferior = 10\n",
        "\n",
        "nivel = 9\n",
        "\n",
        "if nivel < limiteinferior:\n",
        "  print('O nivel do tanque está menor que o limite aceitado')\n",
        "elif nivel > limitesuperior:\n",
        "  print('O nível do tanque está maior que o limite aceitado')\n",
        "else:\n",
        "  print('O limite está dentro do aceitado')"
      ],
      "metadata": {
        "colab": {
          "base_uri": "https://localhost:8080/"
        },
        "id": "maL4rtNr0zAn",
        "outputId": "54a64a8a-f27e-441d-d4a6-a4c3b4c896fb"
      },
      "execution_count": null,
      "outputs": [
        {
          "output_type": "stream",
          "name": "stdout",
          "text": [
            "O nivel do tanque está menor que o limite aceitado\n"
          ]
        }
      ]
    },
    {
      "cell_type": "code",
      "source": [
        "limitesuperior = 90\n",
        "limiteinferior = 10\n",
        "\n",
        "nivel = 90\n",
        "\n",
        "try:\n",
        "  if not isinstance(nivel, (int, float)):\n",
        "    raise ValueError('O nível deve ser um número')\n",
        "  elif nivel < limiteinferior:\n",
        "    print('O nivel do tanque está menor que o limite aceitado')\n",
        "  elif nivel > limitesuperior:\n",
        "    print('O nível do tanque está maior que o limite aceitado')\n",
        "  else:\n",
        "    print('O limite está dentro do aceitado')\n",
        "except ValueError as e:\n",
        "  print(e)"
      ],
      "metadata": {
        "colab": {
          "base_uri": "https://localhost:8080/"
        },
        "id": "Yqa7RXs13T5F",
        "outputId": "6974ae91-9136-4024-be50-9ae574ba1b2d"
      },
      "execution_count": null,
      "outputs": [
        {
          "output_type": "stream",
          "name": "stdout",
          "text": [
            "O nível deve ser um número\n"
          ]
        }
      ]
    },
    {
      "cell_type": "code",
      "source": [
        "import numpy as np\n",
        "\n",
        "tol = 10**-6\n",
        "erro = 100\n",
        "n = 0\n",
        "Soma = 0\n",
        "Sreal = np.pi/4\n",
        "\n",
        "while erro > tol:\n",
        "  Somatorio = ((-1)**n/(2*n+1))\n",
        "  Soma += Somatorio #soma = soma + somatorio\n",
        "  erro = abs((Soma - Sreal)**2)\n",
        "  n += 1\n",
        "else:\n",
        "  print(f'Foram realizadas {n} somas' )"
      ],
      "metadata": {
        "id": "BCvFtsoUx4k9",
        "colab": {
          "base_uri": "https://localhost:8080/"
        },
        "outputId": "c60dfffa-f953-4d51-f86e-c621af87a602"
      },
      "execution_count": null,
      "outputs": [
        {
          "output_type": "stream",
          "name": "stdout",
          "text": [
            "Foram realizadas 250 somas\n"
          ]
        }
      ]
    },
    {
      "cell_type": "code",
      "source": [],
      "metadata": {
        "id": "1ikLP_3wE9mW"
      },
      "execution_count": null,
      "outputs": []
    },
    {
      "cell_type": "code",
      "source": [
        "def filtra_numeros(lista, limite_inferior = 0, limite_superior = 100, apenas_pares = False):\n",
        "  lista_filtrada = []\n"
      ],
      "metadata": {
        "id": "Y8P78u8K_KUd"
      },
      "execution_count": null,
      "outputs": []
    },
    {
      "cell_type": "code",
      "source": [
        "senha = input('Digite sua senha:')\n",
        "\n",
        "def verificar(string):\n",
        "  try:\n",
        "    if not isinstance(senha, (str)):\n",
        "      raise ValueError('A senha deve ser uma string')\n",
        "    elif len(string) < 8:\n",
        "      raise ValueError('A senha deve ter no mínimo 8 caracteres')\n",
        "    elif len(string) > 16:\n",
        "      raise ValueError('A senha deve ter no máximo 16 caracteres')\n",
        "    else:\n",
        "      print('Senha válida')\n",
        "  except ValueError as e:\n",
        "    print(e)\n",
        "\n",
        "verificar(senha)\n",
        "\n"
      ],
      "metadata": {
        "colab": {
          "base_uri": "https://localhost:8080/"
        },
        "id": "0PYa8Hhk0qVF",
        "outputId": "ccd2af33-c5b7-4d74-908c-0350572044cb"
      },
      "execution_count": null,
      "outputs": [
        {
          "output_type": "stream",
          "name": "stdout",
          "text": [
            "Digite sua senha:asdadas\n",
            "A senha deve ter no mínimo 8 caracteres\n"
          ]
        }
      ]
    },
    {
      "cell_type": "code",
      "source": [
        "# Exercicio 1 - Condicionais (IF/EIF/ELSE)\n",
        "\n",
        "Fase = 2\n",
        "Temperatura1 = 50\n",
        "Temperatura2 = 71\n",
        "\n",
        "try:\n",
        "  if not isinstance(Fase, (int)):\n",
        "    raise ValueError('A fase deve ser um número inteiro')\n",
        "  elif not isinstance(Temperatura1, (int, float)):\n",
        "    raise ValueError('A temperatura deve ser um número')\n",
        "  elif not isinstance(Temperatura2, (int, float)):\n",
        "    raise ValueError('A temperatura deve ser um número')\n",
        "  elif Fase < 0 and Fase > 3:\n",
        "    raise ValueError('A fase é invalida')\n",
        "  elif 50 <= Temperatura1 <= 70 and Fase == 1:\n",
        "    print('A temperatura está adequada')\n",
        "  elif 71 <= Temperatura2 <= 90 and Fase == 2:\n",
        "    print('A temperatura está adequada')\n",
        "  else:\n",
        "    print('Temperatura Crítica')\n",
        "except ValueError as e:\n",
        "  print(e)\n",
        "\n"
      ],
      "metadata": {
        "colab": {
          "base_uri": "https://localhost:8080/"
        },
        "id": "z7SJdB-b5H_S",
        "outputId": "a9bf9c62-314e-4cb0-f5c7-bef56ff177a4"
      },
      "execution_count": null,
      "outputs": [
        {
          "output_type": "stream",
          "name": "stdout",
          "text": [
            "A temperatura está adequada\n"
          ]
        }
      ]
    },
    {
      "cell_type": "code",
      "source": [
        "import numpy as np\n",
        "\n",
        "Co = 10\n",
        "k = 0.1\n",
        "tfinal = 50\n",
        "t = 0\n",
        "\n",
        "for t in range(0, tfinal+1, 5):\n",
        "  C = Co*np.exp(-k*t)\n",
        "  print(f't = {t}s')\n",
        "  print(f'C = {C} mol/L')"
      ],
      "metadata": {
        "colab": {
          "base_uri": "https://localhost:8080/"
        },
        "id": "M8x3UjrgEasH",
        "outputId": "6161d2c6-eb53-47fb-df06-38263d4ab090"
      },
      "execution_count": null,
      "outputs": [
        {
          "output_type": "stream",
          "name": "stdout",
          "text": [
            "t = 0s\n",
            "C = 10.0 mol/L\n",
            "t = 5s\n",
            "C = 6.065306597126334 mol/L\n",
            "t = 10s\n",
            "C = 3.6787944117144233 mol/L\n",
            "t = 15s\n",
            "C = 2.231301601484298 mol/L\n",
            "t = 20s\n",
            "C = 1.353352832366127 mol/L\n",
            "t = 25s\n",
            "C = 0.820849986238988 mol/L\n",
            "t = 30s\n",
            "C = 0.49787068367863946 mol/L\n",
            "t = 35s\n",
            "C = 0.301973834223185 mol/L\n",
            "t = 40s\n",
            "C = 0.1831563888873418 mol/L\n",
            "t = 45s\n",
            "C = 0.11108996538242306 mol/L\n",
            "t = 50s\n",
            "C = 0.06737946999085467 mol/L\n"
          ]
        }
      ]
    },
    {
      "cell_type": "code",
      "source": [
        "import numpy as np\n",
        "\n",
        "Co = 10\n",
        "k = 0.1\n",
        "tfinal = 50\n",
        "t = 0\n",
        "\n",
        "while t <= tfinal:\n",
        "  C = Co*np.exp(-k*t)\n",
        "  if C >= 1:\n",
        "   print(f't = {t}s')\n",
        "   print(f'C = {C} mol/L')\n",
        "   t += 5\n",
        "  else:\n",
        "    break"
      ],
      "metadata": {
        "colab": {
          "base_uri": "https://localhost:8080/"
        },
        "id": "O--ELTL9-Y40",
        "outputId": "f7811a68-b24e-4dd0-8806-823b19f915e0"
      },
      "execution_count": null,
      "outputs": [
        {
          "output_type": "stream",
          "name": "stdout",
          "text": [
            "t = 0s\n",
            "C = 10.0 mol/L\n",
            "t = 5s\n",
            "C = 6.065306597126334 mol/L\n",
            "t = 10s\n",
            "C = 3.6787944117144233 mol/L\n",
            "t = 15s\n",
            "C = 2.231301601484298 mol/L\n",
            "t = 20s\n",
            "C = 1.353352832366127 mol/L\n"
          ]
        }
      ]
    },
    {
      "cell_type": "code",
      "source": [
        "import numpy as np\n",
        "\n",
        "C = 0.023041\n",
        "\n",
        "def calcular_pH(int, float):\n",
        "  try:\n",
        "    if not isinstance(C, (int, float)) or C <= 0:\n",
        "      raise ValueError('A concentração inválida')\n",
        "    pH = -np.log(C)\n",
        "    print(f'O valor de pH é {pH}')\n",
        "  except ValueError as e:\n",
        "    print(e)\n",
        "\n",
        "calcular_pH(int, float)\n"
      ],
      "metadata": {
        "id": "o-mI8qE5D-CK",
        "colab": {
          "base_uri": "https://localhost:8080/"
        },
        "outputId": "4084b87a-1bd7-4f1d-c555-83ef16b6a682"
      },
      "execution_count": null,
      "outputs": [
        {
          "output_type": "stream",
          "name": "stdout",
          "text": [
            "O valor de pH é 3.770480041318542\n"
          ]
        }
      ]
    },
    {
      "cell_type": "code",
      "source": [
        "import numpy as np\n",
        "\n",
        "def misturador(Vazao_A,Vazao_B, xa, xb):\n",
        "  try:\n",
        "    if not isinstance(Vazao_A, (int, float)) or Vazao_A <= 0:\n",
        "      raise ValueError('A concentração A é inválida')\n",
        "    elif not isinstance(Vazao_B, (int, float)) or Vazao_B <= 0:\n",
        "      raise ValueError('A concentração B é inválida')\n",
        "    elif not isinstance(xa, (float)) or xa <= 0:\n",
        "      raise ValueError('A fração de sal de a é invalida')\n",
        "    elif not isinstance(xb, (float)) or xb <= 0:\n",
        "      raise ValueError('A fração de sal de b é inválida')\n",
        "\n",
        "    Vazao_Final = Vazao_A + Vazao_B\n",
        "    x = (Vazao_A*xa + Vazao_B*xb)/Vazao_Final\n",
        "    return Vazao_Final, x\n",
        "\n",
        "  except ValueError as e:\n",
        "    print(e)\n",
        "    return None\n",
        "\n",
        "def mostra_sol():\n",
        "  sol = misturador(Vazao_A,Vazao_B, xa, xb)\n",
        "\n",
        "  if sol is not None:\n",
        "    print(f'Vazão Final = {sol[0]}kg/s  concentração = {sol[1]:.3f}%')\n",
        "  else:\n",
        "    print('Valores inválidos')\n",
        "\n",
        "# Questão a)\n",
        "\n",
        "Vazao_A = 50\n",
        "Vazao_B = 50\n",
        "xa = 0.15\n",
        "xb = 0.30\n",
        "mostra_sol()"
      ],
      "metadata": {
        "colab": {
          "base_uri": "https://localhost:8080/"
        },
        "id": "xAQKVZ8O8_mP",
        "outputId": "fba2d404-711e-4677-ba25-b789a68b4305"
      },
      "execution_count": null,
      "outputs": [
        {
          "output_type": "stream",
          "name": "stdout",
          "text": [
            "Vazão Final = 100kg/s  concentração = 0.225%\n"
          ]
        }
      ]
    },
    {
      "cell_type": "code",
      "source": [
        "print(f'Vazão Final = {sol_a[0]}kg/s  concentração = {sol_a[1]:.3f}%')\n",
        "\n",
        "# Questão b)\n",
        "\n",
        "Vazao_A = Vazao_A - 0.5*Vazao_A\n",
        "Vazao_B = Vazao_B + 0.5*Vazao_B\n",
        "xa = xa\n",
        "xb = xb\n",
        "\n",
        "sol_b = misturador(Vazao_A,Vazao_B, xa, xb)\n",
        "\n",
        "print(f'Vazão Final = {sol_b[0]}kg/s  concentração = {sol_b[1]:.3f}%')"
      ],
      "metadata": {
        "id": "IAffe0OIKmhs"
      },
      "execution_count": null,
      "outputs": []
    }
  ]
}